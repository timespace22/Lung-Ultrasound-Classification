{
 "cells": [
  {
   "cell_type": "code",
   "execution_count": null,
   "id": "eb68013d",
   "metadata": {},
   "outputs": [],
   "source": [
    "import pandas as pd\n",
    "import os"
   ]
  },
  {
   "cell_type": "markdown",
   "id": "84e41c8d",
   "metadata": {},
   "source": [
    "# Getting the video file location from the excel"
   ]
  },
  {
   "cell_type": "code",
   "execution_count": null,
   "id": "7dae7279",
   "metadata": {},
   "outputs": [],
   "source": [
    "patient_list = os.listdir(\"Lung ultrasound exams_MovieClips/Lung ultrasound exams/\") # path to the video folder where all patient folders are kept\n",
    "lung_level_df = pd.read_excel('Lung_level_final.xlsx') \n",
    "patient_list_final = [ x for x in patient_list if x in lung_level_df.ID.unique()]\n",
    "lung_level_df = lung_level_df[lung_level_df['ID'].isin(patient_list_final)]"
   ]
  },
  {
   "cell_type": "code",
   "execution_count": null,
   "id": "7c37bf30",
   "metadata": {},
   "outputs": [],
   "source": [
    "video_file = []\n",
    "for row in range(len(lung_level_df)):\n",
    "    video_list = os.listdir(\"Lung ultrasound exams_MovieClips/Lung ultrasound exams/\" + lung_level_df.iloc[row]['ID'] + \"/\")\n",
    "    for vid in video_list:\n",
    "        if vid.startswith(lung_level_df.iloc[row]['Video ID']):\n",
    "            video_file.append(\"Lung ultrasound exams_MovieClips/Lung ultrasound exams/\" + lung_level_df.iloc[row]['ID'] + \"/\" + vid)\n",
    "            break\n",
    "    \n",
    "lung_level_df['Video_File'] = video_file"
   ]
  },
  {
   "cell_type": "code",
   "execution_count": null,
   "id": "254e7c88",
   "metadata": {},
   "outputs": [],
   "source": [
    "lung_level_df.to_excel('Lung_level_final_table.xlsx', index = False)\n",
    "lung_level_df"
   ]
  },
  {
   "cell_type": "markdown",
   "id": "f07622e3",
   "metadata": {},
   "source": [
    "# 1. Skipping frames"
   ]
  },
  {
   "cell_type": "markdown",
   "id": "d965c9c2",
   "metadata": {},
   "source": [
    "## Skipping 2 frames in between"
   ]
  },
  {
   "cell_type": "code",
   "execution_count": null,
   "id": "1e622e01",
   "metadata": {},
   "outputs": [],
   "source": [
    "import cv2\n",
    "import os\n",
    "\n",
    "import time\n",
    "start = time.time()\n",
    "\n",
    "for row in range(len(lung_level_df)):\n",
    "\n",
    "    cam = cv2.VideoCapture(lung_level_df.iloc[row]['Video_File'])\n",
    "    currentframe = 0\n",
    "\n",
    "    if not os.path.exists(\"Frames_from_Videos_skip_2/\" + lung_level_df.iloc[row]['ID'] + \"_\" + lung_level_df.iloc[row]['Video ID']):\n",
    "        os.makedirs(\"Frames_from_Videos_skip_2/\" + lung_level_df.iloc[row]['ID'] + \"_\" + lung_level_df.iloc[row]['Video ID'])\n",
    "\n",
    "    while(True):\n",
    "        ret,frame = cam.read()\n",
    "        if ret:\n",
    "            currentframe += 1\n",
    "            if currentframe%3==0:\n",
    "\n",
    "                name = \"Frames_from_Videos_skip_2/\" + lung_level_df.iloc[row]['ID'] + \"_\" + lung_level_df.iloc[row]['Video ID'] + \"/Frame_\" + str(currentframe//3) + \".jpg\"\n",
    "                cv2.imwrite(name, frame)\n",
    "        else:\n",
    "            break\n",
    "\n",
    "    cam.release()\n",
    "    cv2.destroyAllWindows()\n",
    "    \n",
    "print((time.time() - start)/60, \"mins\")"
   ]
  },
  {
   "cell_type": "markdown",
   "id": "f35bae18",
   "metadata": {},
   "source": [
    "## Skipping 1 frame in between"
   ]
  },
  {
   "cell_type": "code",
   "execution_count": null,
   "id": "cb9784ed",
   "metadata": {},
   "outputs": [],
   "source": [
    "import cv2\n",
    "import os\n",
    "\n",
    "import time\n",
    "start = time.time()\n",
    "\n",
    "for row in range(len(lung_level_df)):\n",
    "\n",
    "    cam = cv2.VideoCapture(lung_level_df.iloc[row]['Video_File'])\n",
    "    currentframe = 0\n",
    "\n",
    "    if not os.path.exists(\"Frames_from_Videos_skip_1/\" + lung_level_df.iloc[row]['ID'] + \"_\" + lung_level_df.iloc[row]['Video ID']):\n",
    "        os.makedirs(\"Frames_from_Videos_skip_1/\" + lung_level_df.iloc[row]['ID'] + \"_\" + lung_level_df.iloc[row]['Video ID'])\n",
    "\n",
    "    while(True):\n",
    "        ret,frame = cam.read()\n",
    "        if ret:\n",
    "            currentframe += 1\n",
    "            if currentframe%2==0: \n",
    "\n",
    "                name = \"Frames_from_Videos_skip_1/\" + lung_level_df.iloc[row]['ID'] + \"_\" + lung_level_df.iloc[row]['Video ID'] + \"/Frame_\" + str(currentframe//2) + \".jpg\"\n",
    "                cv2.imwrite(name, frame)\n",
    "        else:\n",
    "            break\n",
    "\n",
    "    cam.release()\n",
    "    cv2.destroyAllWindows()\n",
    "    \n",
    "print((time.time() - start)/60, \"mins\")"
   ]
  },
  {
   "cell_type": "markdown",
   "id": "218c26f5",
   "metadata": {},
   "source": [
    "## Skipping no frames"
   ]
  },
  {
   "cell_type": "code",
   "execution_count": null,
   "id": "0efd1c6a",
   "metadata": {},
   "outputs": [],
   "source": [
    "import cv2\n",
    "import os\n",
    "\n",
    "import time\n",
    "start = time.time()\n",
    "\n",
    "for row in range(len(lung_level_df)):\n",
    "\n",
    "    cam = cv2.VideoCapture(lung_level_df.iloc[row]['Video_File'])\n",
    "    currentframe = 0\n",
    "\n",
    "    if not os.path.exists(\"Frames_from_Videos_skip_0/\" + lung_level_df.iloc[row]['ID'] + \"_\" + lung_level_df.iloc[row]['Video ID']):\n",
    "        os.makedirs(\"Frames_from_Videos_skip_0/\" + lung_level_df.iloc[row]['ID'] + \"_\" + lung_level_df.iloc[row]['Video ID'])\n",
    "\n",
    "    while(True):\n",
    "        ret,frame = cam.read()\n",
    "        if ret:\n",
    "            currentframe += 1\n",
    "\n",
    "            name = \"Frames_from_Videos_skip_0/\" + lung_level_df.iloc[row]['ID'] + \"_\" + lung_level_df.iloc[row]['Video ID'] + \"/Frame_\" + str(currentframe) + \".jpg\"\n",
    "            cv2.imwrite(name, frame)\n",
    "        else:\n",
    "            break\n",
    "\n",
    "    cam.release()\n",
    "    cv2.destroyAllWindows()\n",
    "    \n",
    "print((time.time() - start)/60, \"mins\")"
   ]
  },
  {
   "cell_type": "markdown",
   "id": "6578454d",
   "metadata": {},
   "source": [
    "# 2. Frame selection methods"
   ]
  },
  {
   "cell_type": "markdown",
   "id": "f4da0945",
   "metadata": {},
   "source": [
    "## Selecting middle 50% frames"
   ]
  },
  {
   "cell_type": "code",
   "execution_count": null,
   "id": "20ba0879",
   "metadata": {},
   "outputs": [],
   "source": [
    "from PIL import Image\n",
    "import numpy as np\n",
    "import shutil\n",
    "\n",
    "\n",
    "import time\n",
    "start = time.time()\n",
    "\n",
    "\n",
    "for row in range(len(lung_level_df)):\n",
    "    \n",
    "    # skip 0 middle 50%\n",
    "\n",
    "    total_frames = len(os.listdir(\"Frames_from_Videos_skip_0/\" + lung_level_df.iloc[row]['ID'] + \"_\" + lung_level_df.iloc[row]['Video ID']))\n",
    "    start_frame = int(np.floor(total_frames*0.25))\n",
    "    end_frame = int(np.floor(total_frames*0.75))\n",
    "    \n",
    "    if not os.path.exists(\"Frames_from_Videos_middle_50_skip_0/\" + lung_level_df.iloc[row]['ID'] + \"_\" + lung_level_df.iloc[row]['Video ID']):\n",
    "        os.makedirs(\"Frames_from_Videos_middle_50_skip_0/\" + lung_level_df.iloc[row]['ID'] + \"_\" + lung_level_df.iloc[row]['Video ID'])\n",
    "        \n",
    "    origin = \"Frames_from_Videos_skip_0/\" + lung_level_df.iloc[row]['ID'] + \"_\" + lung_level_df.iloc[row]['Video ID']\n",
    "    target = \"Frames_from_Videos_middle_50_skip_0/\" + lung_level_df.iloc[row]['ID'] + \"_\" + lung_level_df.iloc[row]['Video ID']\n",
    "    \n",
    "    currentframe = start_frame\n",
    "    \n",
    "    while currentframe <= end_frame:\n",
    "        shutil.copy(origin+\"/Frame_\" + str(currentframe) + \".jpg\", target+\"/Frame_\" + str(currentframe) + \".jpg\")\n",
    "        currentframe+=1\n",
    "\n",
    "    print(\"Skip 0 middle 50% done!\")\n",
    "        \n",
    "    # skip 1 middle 50%\n",
    "\n",
    "    total_frames = len(os.listdir(\"Frames_from_Videos_skip_1/\" + lung_level_df.iloc[row]['ID'] + \"_\" + lung_level_df.iloc[row]['Video ID']))\n",
    "    start_frame = int(np.floor(total_frames*0.25))\n",
    "    end_frame = int(np.floor(total_frames*0.75))\n",
    "    \n",
    "    if not os.path.exists(\"Frames_from_Videos_middle_50_skip_1/\" + lung_level_df.iloc[row]['ID'] + \"_\" + lung_level_df.iloc[row]['Video ID']):\n",
    "        os.makedirs(\"Frames_from_Videos_middle_50_skip_1/\" + lung_level_df.iloc[row]['ID'] + \"_\" + lung_level_df.iloc[row]['Video ID'])\n",
    "        \n",
    "    origin = \"Frames_from_Videos_skip_1/\" + lung_level_df.iloc[row]['ID'] + \"_\" + lung_level_df.iloc[row]['Video ID']\n",
    "    target = \"Frames_from_Videos_middle_50_skip_1/\" + lung_level_df.iloc[row]['ID'] + \"_\" + lung_level_df.iloc[row]['Video ID']\n",
    "    \n",
    "    currentframe = start_frame\n",
    "    \n",
    "    while currentframe <= end_frame:\n",
    "        shutil.copy(origin+\"/Frame_\" + str(currentframe) + \".jpg\", target+\"/Frame_\" + str(currentframe) + \".jpg\")\n",
    "        currentframe+=1\n",
    "        \n",
    "    print(\"Skip 1 middle 50% done!\")\n",
    "    \n",
    "    # skip 2 middle 50%\n",
    "\n",
    "    total_frames = len(os.listdir(\"Frames_from_Videos_skip_2/\" + lung_level_df.iloc[row]['ID'] + \"_\" + lung_level_df.iloc[row]['Video ID']))\n",
    "    start_frame = int(np.floor(total_frames*0.25))\n",
    "    end_frame = int(np.floor(total_frames*0.75))\n",
    "    \n",
    "    if not os.path.exists(\"Frames_from_Videos_middle_50_skip_2/\" + lung_level_df.iloc[row]['ID'] + \"_\" + lung_level_df.iloc[row]['Video ID']):\n",
    "        os.makedirs(\"Frames_from_Videos_middle_50_skip_2/\" + lung_level_df.iloc[row]['ID'] + \"_\" + lung_level_df.iloc[row]['Video ID'])\n",
    "        \n",
    "    origin = \"Frames_from_Videos_skip_2/\" + lung_level_df.iloc[row]['ID'] + \"_\" + lung_level_df.iloc[row]['Video ID']\n",
    "    target = \"Frames_from_Videos_middle_50_skip_2/\" + lung_level_df.iloc[row]['ID'] + \"_\" + lung_level_df.iloc[row]['Video ID']\n",
    "    \n",
    "    currentframe = start_frame\n",
    "\n",
    "    while currentframe <= end_frame:\n",
    "        shutil.copy(origin+\"/Frame_\" + str(currentframe) + \".jpg\", target+\"/Frame_\" + str(currentframe) + \".jpg\")\n",
    "        currentframe+=1\n",
    "\n",
    "    print(\"Skip 2 middle 50% done!\")\n",
    "\n",
    "print((time.time() - start)/60, \"mins\")"
   ]
  },
  {
   "cell_type": "markdown",
   "id": "471495a7",
   "metadata": {},
   "source": [
    "## Statistics of the initial frames"
   ]
  },
  {
   "cell_type": "code",
   "execution_count": null,
   "id": "645c977e",
   "metadata": {},
   "outputs": [],
   "source": [
    "skip_type = []\n",
    "mean_frames = []\n",
    "std_frames = []\n",
    "min_frames = []\n",
    "max_frames = []"
   ]
  },
  {
   "cell_type": "code",
   "execution_count": null,
   "id": "9a7f8246",
   "metadata": {},
   "outputs": [],
   "source": [
    "import numpy as np\n",
    "\n",
    "frames_list_count = []\n",
    "\n",
    "for row in range(len(lung_level_df)):\n",
    "    total_frames = len(os.listdir(\"Frames_from_Videos_skip_0/\" + lung_level_df.iloc[row]['ID'] + \"_\" + lung_level_df.iloc[row]['Video ID']))\n",
    "    frames_list_count.append(total_frames)\n",
    "    \n",
    "skip_type.append(\"Skip 0\")\n",
    "mean_frames.append(np.mean(frames_list_count))\n",
    "std_frames.append(np.std(frames_list_count))\n",
    "min_frames.append(np.min(frames_list_count))\n",
    "max_frames.append(np.max(frames_list_count))"
   ]
  },
  {
   "cell_type": "code",
   "execution_count": null,
   "id": "a405dbbd",
   "metadata": {},
   "outputs": [],
   "source": [
    "import numpy as np\n",
    "\n",
    "frames_list_count = []\n",
    "\n",
    "for row in range(len(lung_level_df)):\n",
    "    total_frames = len(os.listdir(\"Frames_from_Videos_skip_1/\" + lung_level_df.iloc[row]['ID'] + \"_\" + lung_level_df.iloc[row]['Video ID']))\n",
    "    frames_list_count.append(total_frames)\n",
    "    \n",
    "skip_type.append(\"Skip 1\")\n",
    "mean_frames.append(np.mean(frames_list_count))\n",
    "std_frames.append(np.std(frames_list_count))\n",
    "min_frames.append(np.min(frames_list_count))\n",
    "max_frames.append(np.max(frames_list_count))"
   ]
  },
  {
   "cell_type": "code",
   "execution_count": null,
   "id": "0a34d7f0",
   "metadata": {},
   "outputs": [],
   "source": [
    "import numpy as np\n",
    "\n",
    "frames_list_count = []\n",
    "\n",
    "for row in range(len(lung_level_df)):\n",
    "    total_frames = len(os.listdir(\"Frames_from_Videos_skip_2/\" + lung_level_df.iloc[row]['ID'] + \"_\" + lung_level_df.iloc[row]['Video ID']))\n",
    "    frames_list_count.append(total_frames)\n",
    "    \n",
    "skip_type.append(\"Skip 2\")\n",
    "mean_frames.append(np.mean(frames_list_count))\n",
    "std_frames.append(np.std(frames_list_count))\n",
    "min_frames.append(np.min(frames_list_count))\n",
    "max_frames.append(np.max(frames_list_count))"
   ]
  },
  {
   "cell_type": "code",
   "execution_count": null,
   "id": "f18f5785",
   "metadata": {},
   "outputs": [],
   "source": [
    "pd.DataFrame({\"Frames skipped\": skip_type, \"Mean frames\": mean_frames, \"Std frames\": std_frames, \"Min frames\": min_frames, \"Max frames\": max_frames})"
   ]
  },
  {
   "cell_type": "markdown",
   "id": "b0b7391e",
   "metadata": {},
   "source": [
    "## Statistics of middle 50% frames"
   ]
  },
  {
   "cell_type": "code",
   "execution_count": null,
   "id": "d8ac4fba",
   "metadata": {},
   "outputs": [],
   "source": [
    "skip_type = []\n",
    "mean_frames = []\n",
    "std_frames = []\n",
    "min_frames = []\n",
    "max_frames = []\n",
    "sum_frames = []"
   ]
  },
  {
   "cell_type": "code",
   "execution_count": null,
   "id": "58812595",
   "metadata": {},
   "outputs": [],
   "source": [
    "import numpy as np\n",
    "\n",
    "frames_list_count = []\n",
    "\n",
    "for row in range(len(lung_level_df)):\n",
    "    total_frames = len(os.listdir(\"Frames_from_Videos_middle_50_skip_0/\" + lung_level_df.iloc[row]['ID'] + \"_\" + lung_level_df.iloc[row]['Video ID']))\n",
    "    frames_list_count.append(total_frames)\n",
    "    \n",
    "skip_type.append(\"Middle 50%: Skip 0\")\n",
    "mean_frames.append(np.mean(frames_list_count))\n",
    "std_frames.append(np.std(frames_list_count))\n",
    "min_frames.append(np.min(frames_list_count))\n",
    "max_frames.append(np.max(frames_list_count))\n",
    "sum_frames.append(np.sum(frames_list_count))"
   ]
  },
  {
   "cell_type": "code",
   "execution_count": null,
   "id": "df4aef3a",
   "metadata": {},
   "outputs": [],
   "source": [
    "import numpy as np\n",
    "\n",
    "frames_list_count = []\n",
    "\n",
    "for row in range(len(lung_level_df)):\n",
    "    total_frames = len(os.listdir(\"Frames_from_Videos_middle_50_skip_1/\" + lung_level_df.iloc[row]['ID'] + \"_\" + lung_level_df.iloc[row]['Video ID']))\n",
    "    frames_list_count.append(total_frames)\n",
    "    \n",
    "skip_type.append(\"Middle 50%: Skip 1\")\n",
    "mean_frames.append(np.mean(frames_list_count))\n",
    "std_frames.append(np.std(frames_list_count))\n",
    "min_frames.append(np.min(frames_list_count))\n",
    "max_frames.append(np.max(frames_list_count))\n",
    "sum_frames.append(np.sum(frames_list_count))"
   ]
  },
  {
   "cell_type": "code",
   "execution_count": null,
   "id": "04ec6a44",
   "metadata": {},
   "outputs": [],
   "source": [
    "import numpy as np\n",
    "\n",
    "frames_list_count = []\n",
    "\n",
    "for row in range(len(lung_level_df)):\n",
    "    total_frames = len(os.listdir(\"Frames_from_Videos_middle_50_skip_2/\" + lung_level_df.iloc[row]['ID'] + \"_\" + lung_level_df.iloc[row]['Video ID']))\n",
    "    frames_list_count.append(total_frames)\n",
    "    \n",
    "skip_type.append(\"Middle 50%: Skip 2\")\n",
    "mean_frames.append(np.mean(frames_list_count))\n",
    "std_frames.append(np.std(frames_list_count))\n",
    "min_frames.append(np.min(frames_list_count))\n",
    "max_frames.append(np.max(frames_list_count))\n",
    "sum_frames.append(np.sum(frames_list_count))"
   ]
  },
  {
   "cell_type": "code",
   "execution_count": null,
   "id": "9c9f745d",
   "metadata": {},
   "outputs": [],
   "source": [
    "pd.DataFrame({\"Frames skipped\": skip_type, \"Mean frames\": mean_frames, \"Std frames\": std_frames, \"Min frames\": min_frames, \"Max frames\": max_frames, \"Sum frames\": sum_frames})"
   ]
  }
 ],
 "metadata": {
  "kernelspec": {
   "display_name": "Python 3",
   "language": "python",
   "name": "python3"
  },
  "language_info": {
   "codemirror_mode": {
    "name": "ipython",
    "version": 3
   },
   "file_extension": ".py",
   "mimetype": "text/x-python",
   "name": "python",
   "nbconvert_exporter": "python",
   "pygments_lexer": "ipython3",
   "version": "3.11.9"
  }
 },
 "nbformat": 4,
 "nbformat_minor": 5
}
